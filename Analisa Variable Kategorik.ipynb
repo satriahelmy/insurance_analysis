{
 "cells": [
  {
   "cell_type": "markdown",
   "id": "e281a22e-0cd4-4a39-ad97-edf392ee0f99",
   "metadata": {},
   "source": [
    "# Analisa Variable Kategorik"
   ]
  },
  {
   "cell_type": "markdown",
   "id": "5d3f13ae-8f4d-4153-a21c-355dfbbf8b76",
   "metadata": {},
   "source": [
    "Pada tahapan ini, kita akan menganalisa variable kategorik dengan menjawab pertanyaan-pertanyaan sebagai berikut"
   ]
  },
  {
   "cell_type": "markdown",
   "id": "2a1173f8-b95d-4a4f-a0fa-1fbbb9a3f2d7",
   "metadata": {},
   "source": [
    "Pertama-tama kita import library yang dibutuhkan"
   ]
  },
  {
   "cell_type": "code",
   "execution_count": 1,
   "id": "29a7982f-c81f-40e8-8d20-c4b52ac8c2ec",
   "metadata": {},
   "outputs": [],
   "source": [
    "import pandas as pd\n",
    "import numpy as np"
   ]
  },
  {
   "cell_type": "markdown",
   "id": "84628aa0-3d30-4e1c-970f-891e5e6598e3",
   "metadata": {},
   "source": [
    "Selanjutnya kita import datanya dan kita data dan kolomnya"
   ]
  },
  {
   "cell_type": "code",
   "execution_count": 3,
   "id": "bbb8160b-74de-47b3-bc92-ef7db57a84c3",
   "metadata": {},
   "outputs": [
    {
     "data": {
      "text/html": [
       "<div>\n",
       "<style scoped>\n",
       "    .dataframe tbody tr th:only-of-type {\n",
       "        vertical-align: middle;\n",
       "    }\n",
       "\n",
       "    .dataframe tbody tr th {\n",
       "        vertical-align: top;\n",
       "    }\n",
       "\n",
       "    .dataframe thead th {\n",
       "        text-align: right;\n",
       "    }\n",
       "</style>\n",
       "<table border=\"1\" class=\"dataframe\">\n",
       "  <thead>\n",
       "    <tr style=\"text-align: right;\">\n",
       "      <th></th>\n",
       "      <th>age</th>\n",
       "      <th>sex</th>\n",
       "      <th>bmi</th>\n",
       "      <th>children</th>\n",
       "      <th>smoker</th>\n",
       "      <th>region</th>\n",
       "      <th>charges</th>\n",
       "    </tr>\n",
       "  </thead>\n",
       "  <tbody>\n",
       "    <tr>\n",
       "      <th>0</th>\n",
       "      <td>19</td>\n",
       "      <td>female</td>\n",
       "      <td>27.900</td>\n",
       "      <td>0</td>\n",
       "      <td>yes</td>\n",
       "      <td>southwest</td>\n",
       "      <td>16884.92400</td>\n",
       "    </tr>\n",
       "    <tr>\n",
       "      <th>1</th>\n",
       "      <td>18</td>\n",
       "      <td>male</td>\n",
       "      <td>33.770</td>\n",
       "      <td>1</td>\n",
       "      <td>no</td>\n",
       "      <td>southeast</td>\n",
       "      <td>1725.55230</td>\n",
       "    </tr>\n",
       "    <tr>\n",
       "      <th>2</th>\n",
       "      <td>28</td>\n",
       "      <td>male</td>\n",
       "      <td>33.000</td>\n",
       "      <td>3</td>\n",
       "      <td>no</td>\n",
       "      <td>southeast</td>\n",
       "      <td>4449.46200</td>\n",
       "    </tr>\n",
       "    <tr>\n",
       "      <th>3</th>\n",
       "      <td>33</td>\n",
       "      <td>male</td>\n",
       "      <td>22.705</td>\n",
       "      <td>0</td>\n",
       "      <td>no</td>\n",
       "      <td>northwest</td>\n",
       "      <td>21984.47061</td>\n",
       "    </tr>\n",
       "    <tr>\n",
       "      <th>4</th>\n",
       "      <td>32</td>\n",
       "      <td>male</td>\n",
       "      <td>28.880</td>\n",
       "      <td>0</td>\n",
       "      <td>no</td>\n",
       "      <td>northwest</td>\n",
       "      <td>3866.85520</td>\n",
       "    </tr>\n",
       "    <tr>\n",
       "      <th>...</th>\n",
       "      <td>...</td>\n",
       "      <td>...</td>\n",
       "      <td>...</td>\n",
       "      <td>...</td>\n",
       "      <td>...</td>\n",
       "      <td>...</td>\n",
       "      <td>...</td>\n",
       "    </tr>\n",
       "    <tr>\n",
       "      <th>1333</th>\n",
       "      <td>50</td>\n",
       "      <td>male</td>\n",
       "      <td>30.970</td>\n",
       "      <td>3</td>\n",
       "      <td>no</td>\n",
       "      <td>northwest</td>\n",
       "      <td>10600.54830</td>\n",
       "    </tr>\n",
       "    <tr>\n",
       "      <th>1334</th>\n",
       "      <td>18</td>\n",
       "      <td>female</td>\n",
       "      <td>31.920</td>\n",
       "      <td>0</td>\n",
       "      <td>no</td>\n",
       "      <td>northeast</td>\n",
       "      <td>2205.98080</td>\n",
       "    </tr>\n",
       "    <tr>\n",
       "      <th>1335</th>\n",
       "      <td>18</td>\n",
       "      <td>female</td>\n",
       "      <td>36.850</td>\n",
       "      <td>0</td>\n",
       "      <td>no</td>\n",
       "      <td>southeast</td>\n",
       "      <td>1629.83350</td>\n",
       "    </tr>\n",
       "    <tr>\n",
       "      <th>1336</th>\n",
       "      <td>21</td>\n",
       "      <td>female</td>\n",
       "      <td>25.800</td>\n",
       "      <td>0</td>\n",
       "      <td>no</td>\n",
       "      <td>southwest</td>\n",
       "      <td>2007.94500</td>\n",
       "    </tr>\n",
       "    <tr>\n",
       "      <th>1337</th>\n",
       "      <td>61</td>\n",
       "      <td>female</td>\n",
       "      <td>29.070</td>\n",
       "      <td>0</td>\n",
       "      <td>yes</td>\n",
       "      <td>northwest</td>\n",
       "      <td>29141.36030</td>\n",
       "    </tr>\n",
       "  </tbody>\n",
       "</table>\n",
       "<p>1338 rows × 7 columns</p>\n",
       "</div>"
      ],
      "text/plain": [
       "      age     sex     bmi  children smoker     region      charges\n",
       "0      19  female  27.900         0    yes  southwest  16884.92400\n",
       "1      18    male  33.770         1     no  southeast   1725.55230\n",
       "2      28    male  33.000         3     no  southeast   4449.46200\n",
       "3      33    male  22.705         0     no  northwest  21984.47061\n",
       "4      32    male  28.880         0     no  northwest   3866.85520\n",
       "...   ...     ...     ...       ...    ...        ...          ...\n",
       "1333   50    male  30.970         3     no  northwest  10600.54830\n",
       "1334   18  female  31.920         0     no  northeast   2205.98080\n",
       "1335   18  female  36.850         0     no  southeast   1629.83350\n",
       "1336   21  female  25.800         0     no  southwest   2007.94500\n",
       "1337   61  female  29.070         0    yes  northwest  29141.36030\n",
       "\n",
       "[1338 rows x 7 columns]"
      ]
     },
     "execution_count": 3,
     "metadata": {},
     "output_type": "execute_result"
    }
   ],
   "source": [
    "insurance = pd.read_csv('data/insurance.csv')\n",
    "insurance"
   ]
  },
  {
   "cell_type": "markdown",
   "id": "6d752276-6be9-40ae-bbed-c2e974568735",
   "metadata": {},
   "source": [
    "**Gender mana yang memiliki tagihan kesehatan paling tinggi?**"
   ]
  },
  {
   "cell_type": "code",
   "execution_count": 9,
   "id": "24189534-042f-4028-8cfc-f6bd4ae191b3",
   "metadata": {},
   "outputs": [
    {
     "name": "stdout",
     "output_type": "stream",
     "text": [
      "Jumlah tagihan laki-laki adalah 9434763.79614\n",
      "Jumlah tagihan laki-laki adalah 8321061.194619\n"
     ]
    }
   ],
   "source": [
    "tagihan_laki_laki = np.sum(insurance[insurance['sex'] == 'male']['charges'])\n",
    "tagihan_perempuan = np.sum(insurance[insurance['sex'] == 'female']['charges'])\n",
    "\n",
    "print(f\"Jumlah tagihan laki-laki adalah {tagihan_laki_laki}\")\n",
    "print(f\"Jumlah tagihan perempuan adalah {tagihan_perempuan}\")"
   ]
  },
  {
   "cell_type": "markdown",
   "id": "f828eef4-2083-479d-9f51-6287c7120bbc",
   "metadata": {},
   "source": [
    "Dari data tersebut dapat dilihat bahwa tagihan laki-laki lebih besar daripada perempuan"
   ]
  },
  {
   "cell_type": "markdown",
   "id": "a2cd2b0c-eb64-4bdc-9ba7-df772e78762c",
   "metadata": {},
   "source": [
    "**Apakah setiap region memiliki jumlah orang yang sama?**"
   ]
  },
  {
   "cell_type": "code",
   "execution_count": 14,
   "id": "e101c76b-db02-445a-b87b-79d3150ebaad",
   "metadata": {},
   "outputs": [
    {
     "data": {
      "text/plain": [
       "southeast    364\n",
       "southwest    325\n",
       "northwest    325\n",
       "northeast    324\n",
       "Name: region, dtype: int64"
      ]
     },
     "execution_count": 14,
     "metadata": {},
     "output_type": "execute_result"
    }
   ],
   "source": [
    "insurance['region'].value_counts()"
   ]
  },
  {
   "cell_type": "markdown",
   "id": "4950dd7b-6cfd-4d56-9e05-d765ded8fffd",
   "metadata": {},
   "source": [
    "Dari data di atas, didapatkan bahwasanya jumlah orang tiap region berbeda."
   ]
  },
  {
   "cell_type": "markdown",
   "id": "ecfa0671-dfaa-43b0-9570-801071baef84",
   "metadata": {},
   "source": [
    "**Mana yang lebih tinggi proporsi perokok atau non perokok?**"
   ]
  },
  {
   "cell_type": "code",
   "execution_count": 15,
   "id": "30a4cce0-9d6c-4e0f-b2a1-0a99c82419dd",
   "metadata": {},
   "outputs": [
    {
     "data": {
      "text/plain": [
       "no     1064\n",
       "yes     274\n",
       "Name: smoker, dtype: int64"
      ]
     },
     "execution_count": 15,
     "metadata": {},
     "output_type": "execute_result"
    }
   ],
   "source": [
    "insurance['smoker'].value_counts()"
   ]
  },
  {
   "cell_type": "markdown",
   "id": "1f8050c0-6d80-43c3-b8b9-2b1064107024",
   "metadata": {},
   "source": [
    "Dari data di atas, proporsi data tidak merokok lebih banyak daripada yang merokok."
   ]
  },
  {
   "cell_type": "markdown",
   "id": "9aa2fbde-75d5-442a-aa09-edacfbe50926",
   "metadata": {},
   "source": [
    "**Berapa peluang seseorang tersebut adalah perempuan diketahui dia adalah perokok?**"
   ]
  },
  {
   "cell_type": "code",
   "execution_count": 24,
   "id": "9cbcd9a9-dbd6-4a65-8d8a-f859b3bf7d66",
   "metadata": {},
   "outputs": [
    {
     "data": {
      "text/plain": [
       "115"
      ]
     },
     "execution_count": 24,
     "metadata": {},
     "output_type": "execute_result"
    }
   ],
   "source": [
    "n_perempuan_merokok = len(insurance[(insurance['sex'] == 'female') & (insurance['smoker'] == 'yes')])\n",
    "n_perempuan_merokok"
   ]
  },
  {
   "cell_type": "code",
   "execution_count": 25,
   "id": "15c2fcfc-a573-41aa-afda-845d603f158e",
   "metadata": {},
   "outputs": [
    {
     "data": {
      "text/plain": [
       "274"
      ]
     },
     "execution_count": 25,
     "metadata": {},
     "output_type": "execute_result"
    }
   ],
   "source": [
    "n_perokok = len(insurance[insurance['smoker'] == 'yes'])\n",
    "n_perokok"
   ]
  },
  {
   "cell_type": "code",
   "execution_count": 26,
   "id": "c0addc28-760d-4139-beed-d9d4253581c7",
   "metadata": {},
   "outputs": [
    {
     "data": {
      "text/plain": [
       "0.4197080291970803"
      ]
     },
     "execution_count": 26,
     "metadata": {},
     "output_type": "execute_result"
    }
   ],
   "source": [
    "p_perempuan_given_perokok = n_perempuan_merokok / n_perokok\n",
    "p_perempuan_given_perokok"
   ]
  },
  {
   "cell_type": "markdown",
   "id": "532264b2-fee4-4fc7-ad38-7796c4e36936",
   "metadata": {},
   "source": [
    "Peluang perempuan diketahui dia adalah perokok adalah 0.42"
   ]
  },
  {
   "cell_type": "markdown",
   "id": "183ed7e2-aa2c-4a23-9918-9cb0ae9e2cf9",
   "metadata": {},
   "source": [
    "**Berapa peluang seseorang tersebut adalah laki-laki diketahui dia adalah perokok?**"
   ]
  },
  {
   "cell_type": "code",
   "execution_count": 27,
   "id": "97c2156a-bb5a-4105-be95-5f5e7cc31249",
   "metadata": {},
   "outputs": [
    {
     "data": {
      "text/plain": [
       "159"
      ]
     },
     "execution_count": 27,
     "metadata": {},
     "output_type": "execute_result"
    }
   ],
   "source": [
    "n_laki_merokok = len(insurance[(insurance['sex'] == 'male') & (insurance['smoker'] == 'yes')])\n",
    "n_laki_merokok"
   ]
  },
  {
   "cell_type": "code",
   "execution_count": 28,
   "id": "f7d8cf73-ab91-4e8b-9258-996cdc623e1e",
   "metadata": {},
   "outputs": [
    {
     "data": {
      "text/plain": [
       "274"
      ]
     },
     "execution_count": 28,
     "metadata": {},
     "output_type": "execute_result"
    }
   ],
   "source": [
    "n_perokok = len(insurance[insurance['smoker'] == 'yes'])\n",
    "n_perokok"
   ]
  },
  {
   "cell_type": "code",
   "execution_count": 29,
   "id": "d5c6143b-6039-4e0c-87e7-40b3ccedef4b",
   "metadata": {},
   "outputs": [
    {
     "data": {
      "text/plain": [
       "0.5802919708029197"
      ]
     },
     "execution_count": 29,
     "metadata": {},
     "output_type": "execute_result"
    }
   ],
   "source": [
    "p_laki_given_perokok = n_laki_merokok / n_perokok\n",
    "p_laki_given_perokok"
   ]
  },
  {
   "cell_type": "markdown",
   "id": "bd37dc6e-5717-49da-9dc3-ab5f26622aad",
   "metadata": {},
   "source": [
    "Peluang perempuan diketahui dia adalah perokok adalah 0.58"
   ]
  },
  {
   "cell_type": "markdown",
   "id": "fd76cd3c-fd7c-480c-a67b-7abf5feb33bc",
   "metadata": {},
   "source": [
    "**Bagaimana bentuk distribusi peluang besar tagihan dari tiap-tiap region?**"
   ]
  },
  {
   "cell_type": "code",
   "execution_count": null,
   "id": "6ddc6acc-651a-4508-84d6-d82a683ea09d",
   "metadata": {},
   "outputs": [],
   "source": []
  }
 ],
 "metadata": {
  "kernelspec": {
   "display_name": "Python 3 (ipykernel)",
   "language": "python",
   "name": "python3"
  },
  "language_info": {
   "codemirror_mode": {
    "name": "ipython",
    "version": 3
   },
   "file_extension": ".py",
   "mimetype": "text/x-python",
   "name": "python",
   "nbconvert_exporter": "python",
   "pygments_lexer": "ipython3",
   "version": "3.9.12"
  }
 },
 "nbformat": 4,
 "nbformat_minor": 5
}
