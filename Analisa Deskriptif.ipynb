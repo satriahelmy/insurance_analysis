{
 "cells": [
  {
   "cell_type": "markdown",
   "id": "e281a22e-0cd4-4a39-ad97-edf392ee0f99",
   "metadata": {},
   "source": [
    "# Analisa Deskriptif"
   ]
  },
  {
   "cell_type": "markdown",
   "id": "5d3f13ae-8f4d-4153-a21c-355dfbbf8b76",
   "metadata": {},
   "source": [
    "Pada tahapan ini, kita akan melihat karakteristik dari data yang ada. Data yang digunakan adalah data insurance yang berisi 7 variable."
   ]
  },
  {
   "cell_type": "markdown",
   "id": "2a1173f8-b95d-4a4f-a0fa-1fbbb9a3f2d7",
   "metadata": {},
   "source": [
    "Pertama-tama kita import library yang dibutuhkan"
   ]
  },
  {
   "cell_type": "code",
   "execution_count": 1,
   "id": "29a7982f-c81f-40e8-8d20-c4b52ac8c2ec",
   "metadata": {},
   "outputs": [],
   "source": [
    "import pandas as pd\n",
    "import numpy as np"
   ]
  },
  {
   "cell_type": "markdown",
   "id": "84628aa0-3d30-4e1c-970f-891e5e6598e3",
   "metadata": {},
   "source": [
    "Selanjutnya kita import datanya dan kita data dan kolomnya"
   ]
  },
  {
   "cell_type": "code",
   "execution_count": 2,
   "id": "b37c3285-03ac-4198-8fc3-16afa9b8316e",
   "metadata": {},
   "outputs": [
    {
     "name": "stdout",
     "output_type": "stream",
     "text": [
      "Index(['age', 'sex', 'bmi', 'children', 'smoker', 'region', 'charges'], dtype='object')\n"
     ]
    }
   ],
   "source": [
    "insurance = pd.read_csv('data/insurance.csv')\n",
    "print(insurance.columns)"
   ]
  },
  {
   "cell_type": "code",
   "execution_count": 3,
   "id": "27982527-c48d-4065-bf54-cb0eee6e0a8c",
   "metadata": {},
   "outputs": [
    {
     "data": {
      "text/html": [
       "<div>\n",
       "<style scoped>\n",
       "    .dataframe tbody tr th:only-of-type {\n",
       "        vertical-align: middle;\n",
       "    }\n",
       "\n",
       "    .dataframe tbody tr th {\n",
       "        vertical-align: top;\n",
       "    }\n",
       "\n",
       "    .dataframe thead th {\n",
       "        text-align: right;\n",
       "    }\n",
       "</style>\n",
       "<table border=\"1\" class=\"dataframe\">\n",
       "  <thead>\n",
       "    <tr style=\"text-align: right;\">\n",
       "      <th></th>\n",
       "      <th>age</th>\n",
       "      <th>sex</th>\n",
       "      <th>bmi</th>\n",
       "      <th>children</th>\n",
       "      <th>smoker</th>\n",
       "      <th>region</th>\n",
       "      <th>charges</th>\n",
       "    </tr>\n",
       "  </thead>\n",
       "  <tbody>\n",
       "    <tr>\n",
       "      <th>0</th>\n",
       "      <td>19</td>\n",
       "      <td>female</td>\n",
       "      <td>27.900</td>\n",
       "      <td>0</td>\n",
       "      <td>yes</td>\n",
       "      <td>southwest</td>\n",
       "      <td>16884.92400</td>\n",
       "    </tr>\n",
       "    <tr>\n",
       "      <th>1</th>\n",
       "      <td>18</td>\n",
       "      <td>male</td>\n",
       "      <td>33.770</td>\n",
       "      <td>1</td>\n",
       "      <td>no</td>\n",
       "      <td>southeast</td>\n",
       "      <td>1725.55230</td>\n",
       "    </tr>\n",
       "    <tr>\n",
       "      <th>2</th>\n",
       "      <td>28</td>\n",
       "      <td>male</td>\n",
       "      <td>33.000</td>\n",
       "      <td>3</td>\n",
       "      <td>no</td>\n",
       "      <td>southeast</td>\n",
       "      <td>4449.46200</td>\n",
       "    </tr>\n",
       "    <tr>\n",
       "      <th>3</th>\n",
       "      <td>33</td>\n",
       "      <td>male</td>\n",
       "      <td>22.705</td>\n",
       "      <td>0</td>\n",
       "      <td>no</td>\n",
       "      <td>northwest</td>\n",
       "      <td>21984.47061</td>\n",
       "    </tr>\n",
       "    <tr>\n",
       "      <th>4</th>\n",
       "      <td>32</td>\n",
       "      <td>male</td>\n",
       "      <td>28.880</td>\n",
       "      <td>0</td>\n",
       "      <td>no</td>\n",
       "      <td>northwest</td>\n",
       "      <td>3866.85520</td>\n",
       "    </tr>\n",
       "  </tbody>\n",
       "</table>\n",
       "</div>"
      ],
      "text/plain": [
       "   age     sex     bmi  children smoker     region      charges\n",
       "0   19  female  27.900         0    yes  southwest  16884.92400\n",
       "1   18    male  33.770         1     no  southeast   1725.55230\n",
       "2   28    male  33.000         3     no  southeast   4449.46200\n",
       "3   33    male  22.705         0     no  northwest  21984.47061\n",
       "4   32    male  28.880         0     no  northwest   3866.85520"
      ]
     },
     "execution_count": 3,
     "metadata": {},
     "output_type": "execute_result"
    }
   ],
   "source": [
    "insurance.head()"
   ]
  },
  {
   "cell_type": "markdown",
   "id": "05c6e33c-18dd-4d47-8239-909837c118fd",
   "metadata": {},
   "source": [
    "Rata-rata umur pengguna"
   ]
  },
  {
   "cell_type": "code",
   "execution_count": 4,
   "id": "469283c8-6704-44df-b902-a3e267a14273",
   "metadata": {},
   "outputs": [
    {
     "name": "stdout",
     "output_type": "stream",
     "text": [
      "Rata-rata umur pengguna adalah : 39.20702541106129\n"
     ]
    }
   ],
   "source": [
    "user_age_mean = insurance['age'].mean()\n",
    "print(f\"Rata-rata umur pengguna adalah : {user_age_mean}\")"
   ]
  },
  {
   "cell_type": "code",
   "execution_count": 5,
   "id": "56e8c32e-48f2-42fb-a93f-97e09700d50e",
   "metadata": {},
   "outputs": [
    {
     "name": "stdout",
     "output_type": "stream",
     "text": [
      "Rata-rata BMI pengguna adalah : 30.663396860986538\n"
     ]
    }
   ],
   "source": [
    "user_bmi_mean = insurance['bmi'].mean()\n",
    "print(f\"Rata-rata BMI pengguna adalah : {user_bmi_mean}\")"
   ]
  },
  {
   "cell_type": "code",
   "execution_count": 6,
   "id": "08764a23-2739-414a-979a-1da76d02eabd",
   "metadata": {},
   "outputs": [
    {
     "data": {
      "text/html": [
       "<div>\n",
       "<style scoped>\n",
       "    .dataframe tbody tr th:only-of-type {\n",
       "        vertical-align: middle;\n",
       "    }\n",
       "\n",
       "    .dataframe tbody tr th {\n",
       "        vertical-align: top;\n",
       "    }\n",
       "\n",
       "    .dataframe thead th {\n",
       "        text-align: right;\n",
       "    }\n",
       "</style>\n",
       "<table border=\"1\" class=\"dataframe\">\n",
       "  <thead>\n",
       "    <tr style=\"text-align: right;\">\n",
       "      <th></th>\n",
       "      <th>age</th>\n",
       "      <th>sex</th>\n",
       "      <th>bmi</th>\n",
       "      <th>children</th>\n",
       "      <th>smoker</th>\n",
       "      <th>region</th>\n",
       "      <th>charges</th>\n",
       "    </tr>\n",
       "  </thead>\n",
       "  <tbody>\n",
       "    <tr>\n",
       "      <th>0</th>\n",
       "      <td>19</td>\n",
       "      <td>female</td>\n",
       "      <td>27.900</td>\n",
       "      <td>0</td>\n",
       "      <td>yes</td>\n",
       "      <td>southwest</td>\n",
       "      <td>16884.92400</td>\n",
       "    </tr>\n",
       "    <tr>\n",
       "      <th>11</th>\n",
       "      <td>62</td>\n",
       "      <td>female</td>\n",
       "      <td>26.290</td>\n",
       "      <td>0</td>\n",
       "      <td>yes</td>\n",
       "      <td>southeast</td>\n",
       "      <td>27808.72510</td>\n",
       "    </tr>\n",
       "    <tr>\n",
       "      <th>14</th>\n",
       "      <td>27</td>\n",
       "      <td>male</td>\n",
       "      <td>42.130</td>\n",
       "      <td>0</td>\n",
       "      <td>yes</td>\n",
       "      <td>southeast</td>\n",
       "      <td>39611.75770</td>\n",
       "    </tr>\n",
       "    <tr>\n",
       "      <th>19</th>\n",
       "      <td>30</td>\n",
       "      <td>male</td>\n",
       "      <td>35.300</td>\n",
       "      <td>0</td>\n",
       "      <td>yes</td>\n",
       "      <td>southwest</td>\n",
       "      <td>36837.46700</td>\n",
       "    </tr>\n",
       "    <tr>\n",
       "      <th>23</th>\n",
       "      <td>34</td>\n",
       "      <td>female</td>\n",
       "      <td>31.920</td>\n",
       "      <td>1</td>\n",
       "      <td>yes</td>\n",
       "      <td>northeast</td>\n",
       "      <td>37701.87680</td>\n",
       "    </tr>\n",
       "    <tr>\n",
       "      <th>...</th>\n",
       "      <td>...</td>\n",
       "      <td>...</td>\n",
       "      <td>...</td>\n",
       "      <td>...</td>\n",
       "      <td>...</td>\n",
       "      <td>...</td>\n",
       "      <td>...</td>\n",
       "    </tr>\n",
       "    <tr>\n",
       "      <th>1313</th>\n",
       "      <td>19</td>\n",
       "      <td>female</td>\n",
       "      <td>34.700</td>\n",
       "      <td>2</td>\n",
       "      <td>yes</td>\n",
       "      <td>southwest</td>\n",
       "      <td>36397.57600</td>\n",
       "    </tr>\n",
       "    <tr>\n",
       "      <th>1314</th>\n",
       "      <td>30</td>\n",
       "      <td>female</td>\n",
       "      <td>23.655</td>\n",
       "      <td>3</td>\n",
       "      <td>yes</td>\n",
       "      <td>northwest</td>\n",
       "      <td>18765.87545</td>\n",
       "    </tr>\n",
       "    <tr>\n",
       "      <th>1321</th>\n",
       "      <td>62</td>\n",
       "      <td>male</td>\n",
       "      <td>26.695</td>\n",
       "      <td>0</td>\n",
       "      <td>yes</td>\n",
       "      <td>northeast</td>\n",
       "      <td>28101.33305</td>\n",
       "    </tr>\n",
       "    <tr>\n",
       "      <th>1323</th>\n",
       "      <td>42</td>\n",
       "      <td>female</td>\n",
       "      <td>40.370</td>\n",
       "      <td>2</td>\n",
       "      <td>yes</td>\n",
       "      <td>southeast</td>\n",
       "      <td>43896.37630</td>\n",
       "    </tr>\n",
       "    <tr>\n",
       "      <th>1337</th>\n",
       "      <td>61</td>\n",
       "      <td>female</td>\n",
       "      <td>29.070</td>\n",
       "      <td>0</td>\n",
       "      <td>yes</td>\n",
       "      <td>northwest</td>\n",
       "      <td>29141.36030</td>\n",
       "    </tr>\n",
       "  </tbody>\n",
       "</table>\n",
       "<p>274 rows × 7 columns</p>\n",
       "</div>"
      ],
      "text/plain": [
       "      age     sex     bmi  children smoker     region      charges\n",
       "0      19  female  27.900         0    yes  southwest  16884.92400\n",
       "11     62  female  26.290         0    yes  southeast  27808.72510\n",
       "14     27    male  42.130         0    yes  southeast  39611.75770\n",
       "19     30    male  35.300         0    yes  southwest  36837.46700\n",
       "23     34  female  31.920         1    yes  northeast  37701.87680\n",
       "...   ...     ...     ...       ...    ...        ...          ...\n",
       "1313   19  female  34.700         2    yes  southwest  36397.57600\n",
       "1314   30  female  23.655         3    yes  northwest  18765.87545\n",
       "1321   62    male  26.695         0    yes  northeast  28101.33305\n",
       "1323   42  female  40.370         2    yes  southeast  43896.37630\n",
       "1337   61  female  29.070         0    yes  northwest  29141.36030\n",
       "\n",
       "[274 rows x 7 columns]"
      ]
     },
     "execution_count": 6,
     "metadata": {},
     "output_type": "execute_result"
    }
   ],
   "source": [
    "user_perokok = insurance[insurance['smoker'] == 'yes']\n",
    "user_perokok"
   ]
  },
  {
   "cell_type": "code",
   "execution_count": 7,
   "id": "a7b14853-53c2-4068-8d3b-9a154d4c3a04",
   "metadata": {},
   "outputs": [
    {
     "name": "stdout",
     "output_type": "stream",
     "text": [
      "Rata-rata BMI perokok adalah 30.708448905109503\n"
     ]
    }
   ],
   "source": [
    "mean_bmi_perokok = user_perokok['bmi'].mean()\n",
    "print(f\"Rata-rata BMI perokok adalah {mean_bmi_perokok}\")"
   ]
  },
  {
   "cell_type": "markdown",
   "id": "91bb39fd-b444-4cdf-ab4d-e2fd1d31efe9",
   "metadata": {},
   "source": [
    "Variansi Data Charges Perokok vs Variansi Data Charge Non Perokok"
   ]
  },
  {
   "cell_type": "code",
   "execution_count": 9,
   "id": "045ecc6a-733a-4ada-9227-f22168873eec",
   "metadata": {},
   "outputs": [
    {
     "data": {
      "text/html": [
       "<div>\n",
       "<style scoped>\n",
       "    .dataframe tbody tr th:only-of-type {\n",
       "        vertical-align: middle;\n",
       "    }\n",
       "\n",
       "    .dataframe tbody tr th {\n",
       "        vertical-align: top;\n",
       "    }\n",
       "\n",
       "    .dataframe thead th {\n",
       "        text-align: right;\n",
       "    }\n",
       "</style>\n",
       "<table border=\"1\" class=\"dataframe\">\n",
       "  <thead>\n",
       "    <tr style=\"text-align: right;\">\n",
       "      <th></th>\n",
       "      <th>age</th>\n",
       "      <th>sex</th>\n",
       "      <th>bmi</th>\n",
       "      <th>children</th>\n",
       "      <th>smoker</th>\n",
       "      <th>region</th>\n",
       "      <th>charges</th>\n",
       "    </tr>\n",
       "  </thead>\n",
       "  <tbody>\n",
       "    <tr>\n",
       "      <th>1</th>\n",
       "      <td>18</td>\n",
       "      <td>male</td>\n",
       "      <td>33.770</td>\n",
       "      <td>1</td>\n",
       "      <td>no</td>\n",
       "      <td>southeast</td>\n",
       "      <td>1725.55230</td>\n",
       "    </tr>\n",
       "    <tr>\n",
       "      <th>2</th>\n",
       "      <td>28</td>\n",
       "      <td>male</td>\n",
       "      <td>33.000</td>\n",
       "      <td>3</td>\n",
       "      <td>no</td>\n",
       "      <td>southeast</td>\n",
       "      <td>4449.46200</td>\n",
       "    </tr>\n",
       "    <tr>\n",
       "      <th>3</th>\n",
       "      <td>33</td>\n",
       "      <td>male</td>\n",
       "      <td>22.705</td>\n",
       "      <td>0</td>\n",
       "      <td>no</td>\n",
       "      <td>northwest</td>\n",
       "      <td>21984.47061</td>\n",
       "    </tr>\n",
       "    <tr>\n",
       "      <th>4</th>\n",
       "      <td>32</td>\n",
       "      <td>male</td>\n",
       "      <td>28.880</td>\n",
       "      <td>0</td>\n",
       "      <td>no</td>\n",
       "      <td>northwest</td>\n",
       "      <td>3866.85520</td>\n",
       "    </tr>\n",
       "    <tr>\n",
       "      <th>5</th>\n",
       "      <td>31</td>\n",
       "      <td>female</td>\n",
       "      <td>25.740</td>\n",
       "      <td>0</td>\n",
       "      <td>no</td>\n",
       "      <td>southeast</td>\n",
       "      <td>3756.62160</td>\n",
       "    </tr>\n",
       "    <tr>\n",
       "      <th>...</th>\n",
       "      <td>...</td>\n",
       "      <td>...</td>\n",
       "      <td>...</td>\n",
       "      <td>...</td>\n",
       "      <td>...</td>\n",
       "      <td>...</td>\n",
       "      <td>...</td>\n",
       "    </tr>\n",
       "    <tr>\n",
       "      <th>1332</th>\n",
       "      <td>52</td>\n",
       "      <td>female</td>\n",
       "      <td>44.700</td>\n",
       "      <td>3</td>\n",
       "      <td>no</td>\n",
       "      <td>southwest</td>\n",
       "      <td>11411.68500</td>\n",
       "    </tr>\n",
       "    <tr>\n",
       "      <th>1333</th>\n",
       "      <td>50</td>\n",
       "      <td>male</td>\n",
       "      <td>30.970</td>\n",
       "      <td>3</td>\n",
       "      <td>no</td>\n",
       "      <td>northwest</td>\n",
       "      <td>10600.54830</td>\n",
       "    </tr>\n",
       "    <tr>\n",
       "      <th>1334</th>\n",
       "      <td>18</td>\n",
       "      <td>female</td>\n",
       "      <td>31.920</td>\n",
       "      <td>0</td>\n",
       "      <td>no</td>\n",
       "      <td>northeast</td>\n",
       "      <td>2205.98080</td>\n",
       "    </tr>\n",
       "    <tr>\n",
       "      <th>1335</th>\n",
       "      <td>18</td>\n",
       "      <td>female</td>\n",
       "      <td>36.850</td>\n",
       "      <td>0</td>\n",
       "      <td>no</td>\n",
       "      <td>southeast</td>\n",
       "      <td>1629.83350</td>\n",
       "    </tr>\n",
       "    <tr>\n",
       "      <th>1336</th>\n",
       "      <td>21</td>\n",
       "      <td>female</td>\n",
       "      <td>25.800</td>\n",
       "      <td>0</td>\n",
       "      <td>no</td>\n",
       "      <td>southwest</td>\n",
       "      <td>2007.94500</td>\n",
       "    </tr>\n",
       "  </tbody>\n",
       "</table>\n",
       "<p>1064 rows × 7 columns</p>\n",
       "</div>"
      ],
      "text/plain": [
       "      age     sex     bmi  children smoker     region      charges\n",
       "1      18    male  33.770         1     no  southeast   1725.55230\n",
       "2      28    male  33.000         3     no  southeast   4449.46200\n",
       "3      33    male  22.705         0     no  northwest  21984.47061\n",
       "4      32    male  28.880         0     no  northwest   3866.85520\n",
       "5      31  female  25.740         0     no  southeast   3756.62160\n",
       "...   ...     ...     ...       ...    ...        ...          ...\n",
       "1332   52  female  44.700         3     no  southwest  11411.68500\n",
       "1333   50    male  30.970         3     no  northwest  10600.54830\n",
       "1334   18  female  31.920         0     no  northeast   2205.98080\n",
       "1335   18  female  36.850         0     no  southeast   1629.83350\n",
       "1336   21  female  25.800         0     no  southwest   2007.94500\n",
       "\n",
       "[1064 rows x 7 columns]"
      ]
     },
     "execution_count": 9,
     "metadata": {},
     "output_type": "execute_result"
    }
   ],
   "source": [
    "user_not_perokok = insurance[insurance['smoker'] == 'no']\n",
    "user_not_perokok"
   ]
  },
  {
   "cell_type": "code",
   "execution_count": 12,
   "id": "25801bbe-8f02-4f08-ac77-0703b4673259",
   "metadata": {},
   "outputs": [
    {
     "name": "stdout",
     "output_type": "stream",
     "text": [
      "Variance charges untuk user perokok adalah 132721153.13625304\n",
      "Variance charges untuk user non perokok adalah 35891656.00316425\n"
     ]
    }
   ],
   "source": [
    "var_charges_perokok = np.var(user_perokok['charges'])\n",
    "var_charges_non_perokok = np.var(user_not_perokok['charges'])\n",
    "\n",
    "print(f\"Variance charges untuk user perokok adalah {var_charges_perokok}\")\n",
    "print(f\"Variance charges untuk user non perokok adalah {var_charges_non_perokok}\")"
   ]
  },
  {
   "cell_type": "code",
   "execution_count": 13,
   "id": "e08160ab-c32e-4788-ba92-9ffbd8b57f15",
   "metadata": {},
   "outputs": [
    {
     "name": "stdout",
     "output_type": "stream",
     "text": [
      "Rata-rata umur laki-laki yang merokok adalah 38.44654088050314\n",
      "Rata-rata umur perempuan yang merokok adalah 38.608695652173914\n"
     ]
    }
   ],
   "source": [
    "user_perokok_laki = user_perokok[user_perokok['sex'] == 'male']\n",
    "user_perokok_perempuan = user_perokok[user_perokok['sex'] == 'female']\n",
    "\n",
    "mean_umur_perokok_laki = np.mean(user_perokok_laki['age'])\n",
    "mean_umur_perokok_perempuan = np.mean(user_perokok_perempuan['age'])\n",
    "\n",
    "print(f\"Rata-rata umur laki-laki yang merokok adalah {mean_umur_perokok_laki}\")\n",
    "print(f\"Rata-rata umur perempuan yang merokok adalah {mean_umur_perokok_perempuan}\")"
   ]
  },
  {
   "cell_type": "code",
   "execution_count": 15,
   "id": "b64c6a16-44a4-48d0-9c16-5b25511e7632",
   "metadata": {},
   "outputs": [
    {
     "name": "stdout",
     "output_type": "stream",
     "text": [
      "Rata-rata tagihan yang merokok adalah 32050.23183153285\n",
      "Rata-rata tagihan yang tidak merokok adalah 8434.268297856199\n"
     ]
    }
   ],
   "source": [
    "mean_charges_perokok = np.mean(user_perokok['charges'])\n",
    "mean_charges_not_perokok = np.mean(user_not_perokok['charges'])\n",
    "\n",
    "print(f\"Rata-rata tagihan yang merokok adalah {mean_charges_perokok}\")\n",
    "print(f\"Rata-rata tagihan yang tidak merokok adalah {mean_charges_not_perokok}\")"
   ]
  },
  {
   "cell_type": "code",
   "execution_count": 17,
   "id": "cf9ce179-7c39-44a3-a765-994f3e5a9bfd",
   "metadata": {},
   "outputs": [
    {
     "name": "stdout",
     "output_type": "stream",
     "text": [
      "Rata2 tagihan yang merokok dan BMI nya lebih dari 25 adalah 35116.90965694065\n",
      "Rata2 tagihan yang tidak merokok dan BMI nya lebih dari 25 adalah 8629.589609712148\n"
     ]
    }
   ],
   "source": [
    "perokok_bmi_25plus = user_perokok[user_perokok['bmi'] > 25]\n",
    "non_perokok_bmi_25plus = user_not_perokok[user_not_perokok['bmi']>25]\n",
    "\n",
    "mean_tagihan_perokok_bmi25plus = np.mean(perokok_bmi_25plus['charges'])\n",
    "mean_tagihan_non_perokok_bmi25plus = np.mean(non_perokok_bmi_25plus['charges'])\n",
    "\n",
    "print(f\"Rata2 tagihan yang merokok dan BMI nya lebih dari 25 adalah {mean_tagihan_perokok_bmi25plus}\")\n",
    "print(f\"Rata2 tagihan yang tidak merokok dan BMI nya lebih dari 25 adalah {mean_tagihan_non_perokok_bmi25plus}\")"
   ]
  },
  {
   "cell_type": "code",
   "execution_count": 19,
   "id": "a5084c66-badb-4b4d-8283-50d014ccc37c",
   "metadata": {},
   "outputs": [
    {
     "name": "stdout",
     "output_type": "stream",
     "text": [
      "Rata-rata BMI laki-laki adalah 30.943128698224832\n",
      "Rata-rata BMI perempuan adalah 30.377749244713023\n"
     ]
    }
   ],
   "source": [
    "mean_bmi_laki = np.mean(insurance[insurance['sex'] == 'male']['bmi'])\n",
    "mean_bmi_perempuan = np.mean(insurance[insurance['sex'] == 'female']['bmi'])\n",
    "\n",
    "print(f\"Rata-rata BMI laki-laki adalah {mean_bmi_laki}\")\n",
    "print(f\"Rata-rata BMI perempuan adalah {mean_bmi_perempuan}\")"
   ]
  },
  {
   "cell_type": "code",
   "execution_count": 18,
   "id": "62f7035d-5073-43fd-bb0f-aecd799fd98d",
   "metadata": {},
   "outputs": [
    {
     "name": "stdout",
     "output_type": "stream",
     "text": [
      "Rata-rata BMI laki-laki adalah 30.708448905109503\n",
      "Rata-rata BMI perempuan adalah 30.651795112781922\n"
     ]
    }
   ],
   "source": [
    "mean_bmi_perokok = np.mean(insurance[insurance['smoker'] == 'yes']['bmi'])\n",
    "mean_bmi_non_perokok = np.mean(insurance[insurance['smoker'] == 'no']['bmi'])\n",
    "\n",
    "print(f\"Rata-rata BMI laki-laki adalah {mean_bmi_perokok}\")\n",
    "print(f\"Rata-rata BMI perempuan adalah {mean_bmi_non_perokok}\")"
   ]
  }
 ],
 "metadata": {
  "kernelspec": {
   "display_name": "Python 3 (ipykernel)",
   "language": "python",
   "name": "python3"
  },
  "language_info": {
   "codemirror_mode": {
    "name": "ipython",
    "version": 3
   },
   "file_extension": ".py",
   "mimetype": "text/x-python",
   "name": "python",
   "nbconvert_exporter": "python",
   "pygments_lexer": "ipython3",
   "version": "3.9.12"
  }
 },
 "nbformat": 4,
 "nbformat_minor": 5
}
