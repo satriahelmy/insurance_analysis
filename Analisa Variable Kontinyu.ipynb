{
 "cells": [
  {
   "cell_type": "markdown",
   "id": "ef68b2f9-6178-4ba5-859d-aa76c6a6c9a8",
   "metadata": {},
   "source": [
    "# Analisa Variable Kontinu"
   ]
  },
  {
   "cell_type": "code",
   "execution_count": 1,
   "id": "cdc4ca0f-2073-487a-806b-dfbbe224d65a",
   "metadata": {},
   "outputs": [],
   "source": [
    "import pandas as pd\n",
    "import numpy as np"
   ]
  },
  {
   "cell_type": "code",
   "execution_count": 3,
   "id": "160e4c6d-d6bc-46e6-959f-cb216540144f",
   "metadata": {},
   "outputs": [
    {
     "data": {
      "text/html": [
       "<div>\n",
       "<style scoped>\n",
       "    .dataframe tbody tr th:only-of-type {\n",
       "        vertical-align: middle;\n",
       "    }\n",
       "\n",
       "    .dataframe tbody tr th {\n",
       "        vertical-align: top;\n",
       "    }\n",
       "\n",
       "    .dataframe thead th {\n",
       "        text-align: right;\n",
       "    }\n",
       "</style>\n",
       "<table border=\"1\" class=\"dataframe\">\n",
       "  <thead>\n",
       "    <tr style=\"text-align: right;\">\n",
       "      <th></th>\n",
       "      <th>age</th>\n",
       "      <th>sex</th>\n",
       "      <th>bmi</th>\n",
       "      <th>children</th>\n",
       "      <th>smoker</th>\n",
       "      <th>region</th>\n",
       "      <th>charges</th>\n",
       "    </tr>\n",
       "  </thead>\n",
       "  <tbody>\n",
       "    <tr>\n",
       "      <th>0</th>\n",
       "      <td>19</td>\n",
       "      <td>female</td>\n",
       "      <td>27.900</td>\n",
       "      <td>0</td>\n",
       "      <td>yes</td>\n",
       "      <td>southwest</td>\n",
       "      <td>16884.92400</td>\n",
       "    </tr>\n",
       "    <tr>\n",
       "      <th>1</th>\n",
       "      <td>18</td>\n",
       "      <td>male</td>\n",
       "      <td>33.770</td>\n",
       "      <td>1</td>\n",
       "      <td>no</td>\n",
       "      <td>southeast</td>\n",
       "      <td>1725.55230</td>\n",
       "    </tr>\n",
       "    <tr>\n",
       "      <th>2</th>\n",
       "      <td>28</td>\n",
       "      <td>male</td>\n",
       "      <td>33.000</td>\n",
       "      <td>3</td>\n",
       "      <td>no</td>\n",
       "      <td>southeast</td>\n",
       "      <td>4449.46200</td>\n",
       "    </tr>\n",
       "    <tr>\n",
       "      <th>3</th>\n",
       "      <td>33</td>\n",
       "      <td>male</td>\n",
       "      <td>22.705</td>\n",
       "      <td>0</td>\n",
       "      <td>no</td>\n",
       "      <td>northwest</td>\n",
       "      <td>21984.47061</td>\n",
       "    </tr>\n",
       "    <tr>\n",
       "      <th>4</th>\n",
       "      <td>32</td>\n",
       "      <td>male</td>\n",
       "      <td>28.880</td>\n",
       "      <td>0</td>\n",
       "      <td>no</td>\n",
       "      <td>northwest</td>\n",
       "      <td>3866.85520</td>\n",
       "    </tr>\n",
       "  </tbody>\n",
       "</table>\n",
       "</div>"
      ],
      "text/plain": [
       "   age     sex     bmi  children smoker     region      charges\n",
       "0   19  female  27.900         0    yes  southwest  16884.92400\n",
       "1   18    male  33.770         1     no  southeast   1725.55230\n",
       "2   28    male  33.000         3     no  southeast   4449.46200\n",
       "3   33    male  22.705         0     no  northwest  21984.47061\n",
       "4   32    male  28.880         0     no  northwest   3866.85520"
      ]
     },
     "execution_count": 3,
     "metadata": {},
     "output_type": "execute_result"
    }
   ],
   "source": [
    "insurance = pd.read_csv('data/insurance.csv')\n",
    "insurance.head()"
   ]
  },
  {
   "cell_type": "markdown",
   "id": "fbda84ed-bb58-477c-b26d-0b8eed0dcb9b",
   "metadata": {},
   "source": [
    "Untuk menganalisa variable kontinu, kita bisa lakukan dengan cara menjawab pertanyaan di bawah ini:"
   ]
  },
  {
   "cell_type": "markdown",
   "id": "0e7b8a45-4b91-422e-9ed2-7d401d56a05f",
   "metadata": {},
   "source": [
    "**Mana yang lebih mungkin terjadi:**\n",
    "- Seseorang dengan BMI diatas 25 mendapatkan tagihan kesehatan di atas 16.7k, atau\n",
    "- Seseorang dengan BMI dibawah 25 mendapatkan tagihan kesehatan di atas 16.7k"
   ]
  },
  {
   "cell_type": "code",
   "execution_count": 11,
   "id": "04d40540-6d0a-40ba-b109-5796eab38c79",
   "metadata": {},
   "outputs": [
    {
     "name": "stdout",
     "output_type": "stream",
     "text": [
      "Peluang seseorang yang BMI di atas 25 mendapatkan tagihan kesehatan di atas 16.7 adalah 0.25939505041246563\n"
     ]
    }
   ],
   "source": [
    "# A: seseorang mendapatkan tagihan kesehatan di atas 16.7K\n",
    "# B: seseorang dengan BMI di atas 25\n",
    "\n",
    "n_A_irisan_B = len(insurance[(insurance['bmi'] > 25) & (insurance['charges'] > 16700)])\n",
    "n_B = len(insurance[insurance['bmi']>25])\n",
    "\n",
    "p_A_given_B = n_A_irisan_B / n_B\n",
    "\n",
    "print(f'Peluang seseorang yang BMI di atas 25 mendapatkan tagihan kesehatan di atas 16.7 adalah {p_A_given_B}')"
   ]
  },
  {
   "cell_type": "code",
   "execution_count": 10,
   "id": "be651a75-762f-46e7-8800-ba856b9f1fcf",
   "metadata": {},
   "outputs": [
    {
     "name": "stdout",
     "output_type": "stream",
     "text": [
      "Peluang seseorang yang BMI di bawah 25 mendapatkan tagihan kesehatan di atas 16.7 adalah 0.20816326530612245\n"
     ]
    }
   ],
   "source": [
    "# C: seseorang mendapatkan tagihan kesehatan di atas 16.7K\n",
    "# D: seseorang dengan BMI di bawah 25\n",
    "\n",
    "n_C_irisan_D = len(insurance[(insurance['bmi']<25) & (insurance['charges'] > 16700)])\n",
    "n_D = len(insurance[insurance['bmi']<25])\n",
    "\n",
    "p_C_given_D = n_C_irisan_D / n_D\n",
    "\n",
    "print(f'Peluang seseorang yang BMI di bawah 25 mendapatkan tagihan kesehatan di atas 16.7 adalah {p_C_given_D}')"
   ]
  },
  {
   "cell_type": "markdown",
   "id": "b6af2f56-a4c3-48a5-8c64-12e7645583b0",
   "metadata": {},
   "source": [
    "**Mana yang lebih mungkin terjadi:**\n",
    "- Seseorang perokok dengan BMI di atas 25 mendapatkan tagihan kesehatan di atas 16.7k, atau\n",
    "- Seseorang non perokok dengan BMI di atas 25 mendapatkan tagihan kesehatan di atas 16.7k"
   ]
  },
  {
   "cell_type": "code",
   "execution_count": 14,
   "id": "cea9d066-e6b0-4a73-bcab-635568d442a6",
   "metadata": {},
   "outputs": [
    {
     "name": "stdout",
     "output_type": "stream",
     "text": [
      "Peluang seseorang perokok yang BMI di atas 25 mendapatkan tagihan kesehatan di atas 16.7 adalah 0.9817351598173516\n"
     ]
    }
   ],
   "source": [
    "# E: seseorang mendapatkan tagihan kesehatan di atas 16.7K\n",
    "# F: seseorang perokok dengan BMI di atas 25\n",
    "\n",
    "n_E_irisan_F = len(insurance[(insurance['bmi'] > 25) & (insurance['smoker'] == 'yes') & (insurance['charges'] > 16700)])\n",
    "n_F = len(insurance[(insurance['bmi']>25) & (insurance['smoker'] == 'yes')])\n",
    "\n",
    "p_E_given_F = n_E_irisan_F / n_F\n",
    "\n",
    "print(f'Peluang seseorang perokok yang BMI di atas 25 mendapatkan tagihan kesehatan di atas 16.7 adalah {p_E_given_F}')"
   ]
  },
  {
   "cell_type": "code",
   "execution_count": 15,
   "id": "af58581e-0367-4ada-a77a-44672dbe4270",
   "metadata": {},
   "outputs": [
    {
     "name": "stdout",
     "output_type": "stream",
     "text": [
      "Peluang seseorang non perokok yang BMI di atas 25 mendapatkan tagihan kesehatan di atas 16.7 adalah 0.0779816513761468\n"
     ]
    }
   ],
   "source": [
    "# G: seseorang mendapatkan tagihan kesehatan di atas 16.7K\n",
    "# H: seseorang non perokok dengan BMI di atas 25\n",
    "\n",
    "n_G_irisan_H = len(insurance[(insurance['bmi'] > 25) & (insurance['smoker'] == 'no') & (insurance['charges'] > 16700)])\n",
    "n_H = len(insurance[(insurance['bmi']>25) & (insurance['smoker'] == 'no')])\n",
    "\n",
    "p_G_given_H = n_G_irisan_H / n_H\n",
    "\n",
    "print(f'Peluang seseorang non perokok yang BMI di atas 25 mendapatkan tagihan kesehatan di atas 16.7 adalah {p_G_given_H}')"
   ]
  }
 ],
 "metadata": {
  "kernelspec": {
   "display_name": "Python 3 (ipykernel)",
   "language": "python",
   "name": "python3"
  },
  "language_info": {
   "codemirror_mode": {
    "name": "ipython",
    "version": 3
   },
   "file_extension": ".py",
   "mimetype": "text/x-python",
   "name": "python",
   "nbconvert_exporter": "python",
   "pygments_lexer": "ipython3",
   "version": "3.9.12"
  }
 },
 "nbformat": 4,
 "nbformat_minor": 5
}
