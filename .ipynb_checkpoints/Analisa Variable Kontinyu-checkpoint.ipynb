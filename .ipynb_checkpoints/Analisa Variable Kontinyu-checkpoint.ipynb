{
 "cells": [
  {
   "cell_type": "markdown",
   "id": "ef68b2f9-6178-4ba5-859d-aa76c6a6c9a8",
   "metadata": {},
   "source": [
    "# Analisa Variable Kontinu"
   ]
  },
  {
   "cell_type": "code",
   "execution_count": 1,
   "id": "cdc4ca0f-2073-487a-806b-dfbbe224d65a",
   "metadata": {},
   "outputs": [],
   "source": [
    "import pandas as pd\n",
    "import numpy as np"
   ]
  },
  {
   "cell_type": "code",
   "execution_count": null,
   "id": "160e4c6d-d6bc-46e6-959f-cb216540144f",
   "metadata": {},
   "outputs": [],
   "source": [
    "insurance = pd.read_csv('data/')"
   ]
  },
  {
   "cell_type": "markdown",
   "id": "0e7b8a45-4b91-422e-9ed2-7d401d56a05f",
   "metadata": {},
   "source": [
    "Mana yang lebih mungkin terjadi:\n",
    "- Seseorang dengan BMI diatas 25 mendapatkan tagihan kesehatan diatas 16.7k, atau\n",
    "- Seseorang dengan BMI dibawah 25 mendapatkan tagihan kesehatan diatas 16.7k"
   ]
  },
  {
   "cell_type": "code",
   "execution_count": null,
   "id": "04d40540-6d0a-40ba-b109-5796eab38c79",
   "metadata": {},
   "outputs": [],
   "source": []
  }
 ],
 "metadata": {
  "kernelspec": {
   "display_name": "Python 3 (ipykernel)",
   "language": "python",
   "name": "python3"
  },
  "language_info": {
   "codemirror_mode": {
    "name": "ipython",
    "version": 3
   },
   "file_extension": ".py",
   "mimetype": "text/x-python",
   "name": "python",
   "nbconvert_exporter": "python",
   "pygments_lexer": "ipython3",
   "version": "3.9.12"
  }
 },
 "nbformat": 4,
 "nbformat_minor": 5
}
